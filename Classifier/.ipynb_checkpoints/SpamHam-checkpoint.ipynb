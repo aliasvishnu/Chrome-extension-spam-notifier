{
 "cells": [
  {
   "cell_type": "code",
   "execution_count": 2,
   "metadata": {
    "collapsed": true
   },
   "outputs": [],
   "source": [
    "import numpy as np\n",
    "import os\n",
    "import pickle\n",
    "import math"
   ]
  },
  {
   "cell_type": "code",
   "execution_count": 218,
   "metadata": {},
   "outputs": [],
   "source": [
    "spamFiles = os.listdir('Spam')\n",
    "hamFiles = os.listdir('Ham')\n",
    "\n",
    "spam = []\n",
    "ham = []\n",
    "\n",
    "for fname in spamFiles:\n",
    "    f = open(\"Spam/\"+fname)\n",
    "    mailStr = \"\"\n",
    "    for line in f:\n",
    "        mailStr = mailStr + line\n",
    "    spam.append(mailStr)\n",
    "\n",
    "for fname in hamFiles:\n",
    "    f = open(\"Ham/\"+fname)\n",
    "    mailStr = \"\"\n",
    "    for line in f:\n",
    "        mailStr = mailStr + line\n",
    "    ham.append(mailStr)"
   ]
  },
  {
   "cell_type": "code",
   "execution_count": 219,
   "metadata": {
    "collapsed": true
   },
   "outputs": [],
   "source": [
    "data = {'spam': spam, 'ham': ham}"
   ]
  },
  {
   "cell_type": "code",
   "execution_count": 220,
   "metadata": {
    "collapsed": true
   },
   "outputs": [],
   "source": [
    "pickleOut = open('Dataset.pickle', 'wb')\n",
    "pickle.dump(data, pickleOut)"
   ]
  },
  {
   "cell_type": "code",
   "execution_count": 221,
   "metadata": {},
   "outputs": [],
   "source": [
    "def isNum(s):\n",
    "    try:\n",
    "        float(s)\n",
    "        return True\n",
    "    except ValueError:\n",
    "        return False"
   ]
  },
  {
   "cell_type": "markdown",
   "metadata": {},
   "source": [
    "### Split data into training and testing samples"
   ]
  },
  {
   "cell_type": "code",
   "execution_count": 222,
   "metadata": {
    "collapsed": true
   },
   "outputs": [],
   "source": [
    "stopwords = set([\" \", \"a\", \"about\", \"above\", \"after\", \"again\", \"against\", \"all\", \"am\", \"an\", \"and\", \"any\", \"are\", \"aren't\", \"as\", \"at\", \"be\", \"because\", \"been\", \"before\", \"being\", \"below\", \"between\", \"both\", \"but\", \"by\", \"can't\", \"cannot\", \"could\", \"couldn't\", \"did\", \"didn't\", \"do\", \"does\", \"doesn't\", \"doing\", \"don't\", \"down\", \"during\", \"each\", \"few\", \"for\", \"from\", \"further\", \"had\", \"hadn't\", \"has\", \"hasn't\", \"have\", \"haven't\", \"having\", \"he\", \"he'd\", \"he'll\", \"he's\", \"her\", \"here\", \"here's\", \"hers\", \"herself\", \"him\", \"himself\", \"his\", \"how\", \"how's\", \"i\", \"i'd\", \"i'll\", \"i'm\", \"i've\", \"if\", \"in\", \"into\", \"is\", \"isn't\", \"it\", \"it's\", \"its\", \"itself\", \"let's\", \"me\", \"more\", \"most\", \"mustn't\", \"my\", \"myself\", \"no\", \"nor\", \"not\", \"of\", \"off\", \"on\", \"once\", \"only\", \"or\", \"other\", \"ought\", \"our\", \"ours\tourselves\", \"out\", \"over\", \"own\", \"same\", \"shan't\", \"she\", \"she'd\", \"she'll\", \"she's\", \"should\", \"shouldn't\", \"so\", \"some\", \"such\", \"than\", \"that\", \"that's\", \"the\", \"their\", \"theirs\", \"them\", \"themselves\", \"then\", \"there\", \"there's\", \"these\", \"they\", \"they'd\", \"they'll\", \"they're\", \"they've\", \"this\", \"those\", \"through\", \"to\", \"too\", \"under\", \"until\", \"up\", \"very\", \"was\", \"wasn't\", \"we\", \"we'd\", \"we'll\", \"we're\", \"we've\", \"were\", \"weren't\", \"what\", \"what's\", \"when\", \"when's\", \"where\", \"where's\", \"which\", \"while\", \"who\", \"who's\", \"whom\", \"why\", \"why's\", \"with\", \"won't\", \"would\", \"wouldn't\", \"you\", \"you'd\", \"you'll\", \"you're\", \"you've\", \"your\", \"yours\", \"yourself\", \"yourselves\"])"
   ]
  },
  {
   "cell_type": "code",
   "execution_count": 223,
   "metadata": {},
   "outputs": [],
   "source": [
    "avoidChars = set([\".\", \"+\", \"-\", \"|\", \"\\r\", \"\\n\", \"/\", \":\", \"!\", \"\\x00\", \"\\xff\", \"=\", \"%\", \"'\", \",\", \"*\", \"_\", \"__\"])\n",
    "\n",
    "for idx, document in enumerate(spam):\n",
    "    spam[idx] = \"\".join([c if c not in unwanted else \" \" for c in spam[idx]])\n",
    "    spam[idx] = spam[idx].split(\" \")"
   ]
  },
  {
   "cell_type": "code",
   "execution_count": 224,
   "metadata": {
    "collapsed": true
   },
   "outputs": [],
   "source": [
    "for idx, document in enumerate(ham):\n",
    "    ham[idx] = \"\".join([c if c not in unwanted else \" \" for c in ham[idx]])\n",
    "    ham[idx] = ham[idx].split(\" \")"
   ]
  },
  {
   "cell_type": "code",
   "execution_count": 225,
   "metadata": {
    "collapsed": true
   },
   "outputs": [],
   "source": [
    "for idx, doc in enumerate(ham):\n",
    "    ham[idx] = [item.lower() for item in ham[idx] if item != \"\" and item.lower() not in stopwords and not isNum(item.lower())]"
   ]
  },
  {
   "cell_type": "code",
   "execution_count": 226,
   "metadata": {
    "collapsed": true
   },
   "outputs": [],
   "source": [
    "for idx, doc in enumerate(spam):\n",
    "    spam[idx] = [item.lower() for item in spam[idx] if item != \"\" and item.lower() not in stopwords  and not isNum(item.lower())]"
   ]
  },
  {
   "cell_type": "markdown",
   "metadata": {},
   "source": [
    "### Split into train and test set"
   ]
  },
  {
   "cell_type": "code",
   "execution_count": 227,
   "metadata": {
    "collapsed": true
   },
   "outputs": [],
   "source": [
    "spamtest = spam[int(len(spam)*0.9):]\n",
    "hamtest = ham[int(len(ham)*0.9):]\n",
    "\n",
    "spamval = spam[int(len(spam)*0.85): int(len(spam)*0.9)]\n",
    "hamval = ham[int(len(ham)*0.85):int(len(ham)*0.9)]\n",
    "\n",
    "spam = spam[:int(len(spam)*0.85)]\n",
    "ham = ham[:int(len(ham)*0.85)]"
   ]
  },
  {
   "cell_type": "code",
   "execution_count": 242,
   "metadata": {},
   "outputs": [
    {
     "name": "stdout",
     "output_type": "stream",
     "text": [
      "858 14596\n"
     ]
    }
   ],
   "source": [
    "print len(spamval), len(spam)"
   ]
  },
  {
   "cell_type": "markdown",
   "metadata": {},
   "source": [
    "### We calculate the prior before we split into training and testing samples"
   ]
  },
  {
   "cell_type": "code",
   "execution_count": 228,
   "metadata": {
    "collapsed": true
   },
   "outputs": [],
   "source": [
    "Pspam = len(spam)*1.0/(len(spam)+len(ham))\n",
    "Pham = 1-Pspam"
   ]
  },
  {
   "cell_type": "code",
   "execution_count": 229,
   "metadata": {},
   "outputs": [
    {
     "data": {
      "text/plain": [
       "(0.5092812281926029, 0.4907187718073971)"
      ]
     },
     "execution_count": 229,
     "metadata": {},
     "output_type": "execute_result"
    }
   ],
   "source": [
    "Pspam, Pham"
   ]
  },
  {
   "cell_type": "markdown",
   "metadata": {},
   "source": [
    "### We also need the conditional probability of each word given it is spam and non spam."
   ]
  },
  {
   "cell_type": "code",
   "execution_count": 230,
   "metadata": {
    "collapsed": true
   },
   "outputs": [],
   "source": [
    "# Calculate set of all words.\n",
    "wordList = set()\n",
    "for lst in spam:\n",
    "    for word in lst:\n",
    "        wordList.add(word)\n",
    "for lst in ham:\n",
    "    for word in lst:\n",
    "        wordList.add(word)"
   ]
  },
  {
   "cell_type": "markdown",
   "metadata": {
    "collapsed": true
   },
   "source": [
    "### P_wc = Probability of finding word w given document class c.\n",
    "### P_wc = (count(wi, c)+alpha) / sum(count(w, c)+alpha)"
   ]
  },
  {
   "cell_type": "code",
   "execution_count": 243,
   "metadata": {
    "collapsed": true
   },
   "outputs": [],
   "source": [
    "totalSpamWords = 0\n",
    "totalHamWords = 0\n",
    "\n",
    "countSpam = {}\n",
    "countHam = {}\n",
    "\n",
    "\n",
    "for lst in spam:\n",
    "    for word in lst:\n",
    "        if word not in countSpam:\n",
    "            countSpam[word] = 0\n",
    "        countSpam[word] += 1\n",
    "        totalSpamWords += 1\n",
    "\n",
    "for lst in ham:\n",
    "    for word in lst:\n",
    "        if word not in countHam:\n",
    "            countHam[word] = 0\n",
    "        countHam[word] += 1\n",
    "        totalHamWords += 1"
   ]
  },
  {
   "cell_type": "code",
   "execution_count": 244,
   "metadata": {
    "collapsed": true
   },
   "outputs": [],
   "source": [
    "alpha = 1"
   ]
  },
  {
   "cell_type": "code",
   "execution_count": 245,
   "metadata": {
    "collapsed": true
   },
   "outputs": [],
   "source": [
    "def P_wc(word, spam):\n",
    "    if(spam):\n",
    "        occ = 0\n",
    "        if word in countSpam:\n",
    "            occ = countSpam[word]\n",
    "        return np.log((occ + alpha)*1.0 / (totalSpamWords + alpha*len(wordList)))\n",
    "    else:\n",
    "        occ = 0\n",
    "        if word in countHam:\n",
    "            occ = countHam[word]\n",
    "        return np.log((occ + alpha)*1.0 / (totalHamWords + alpha*len(wordList)))"
   ]
  },
  {
   "cell_type": "code",
   "execution_count": 264,
   "metadata": {
    "collapsed": true
   },
   "outputs": [],
   "source": [
    "thresh = 0.495\n",
    "\n",
    "def isSpam(email):\n",
    "    ps, ph = np.log(Pspam), np.log(Pham)\n",
    "    \n",
    "    for word in email:\n",
    "        ps += P_wc(word, 1)\n",
    "        \n",
    "    for word in email:\n",
    "        ph += P_wc(word, 0)\n",
    "        \n",
    "\n",
    "    return  ps*1.0/(ps+ph) <= thresh\n",
    "            \n",
    "   "
   ]
  },
  {
   "cell_type": "code",
   "execution_count": 265,
   "metadata": {
    "collapsed": true
   },
   "outputs": [],
   "source": [
    "def getAcc(spam, ham):\n",
    "    acc = 0\n",
    "    for item in ham:\n",
    "        if not isSpam(item):\n",
    "            acc += 1\n",
    "            \n",
    "    for item in spam:\n",
    "        if isSpam(item):\n",
    "            acc += 1\n",
    "    return acc*1.0/(len(spam)+len(ham))"
   ]
  },
  {
   "cell_type": "code",
   "execution_count": 266,
   "metadata": {
    "collapsed": true
   },
   "outputs": [],
   "source": [
    "def getFP(spam, ham):\n",
    "    fp = 0\n",
    "    for item in ham:\n",
    "        if isSpam(item):\n",
    "            fp += 1\n",
    "\n",
    "    print fp*1.0/len(ham)"
   ]
  },
  {
   "cell_type": "markdown",
   "metadata": {},
   "source": [
    "## Hyperparameter Selection \n",
    "### Validation Data"
   ]
  },
  {
   "cell_type": "code",
   "execution_count": 267,
   "metadata": {},
   "outputs": [
    {
     "name": "stdout",
     "output_type": "stream",
     "text": [
      "Validation accuracy =  0.962017804154\n",
      "Validation false positive rate =  0.00967351874244\n",
      "None\n"
     ]
    }
   ],
   "source": [
    "print \"Validation accuracy = \", getAcc(spamval, hamval)\n",
    "print \"Validation false positive rate = \", getFP(spamval, hamval)"
   ]
  },
  {
   "cell_type": "code",
   "execution_count": 268,
   "metadata": {
    "scrolled": false
   },
   "outputs": [
    {
     "name": "stdout",
     "output_type": "stream",
     "text": [
      "Test accuracy =  0.970945745627\n",
      "Test false positive rate =  0.00483383685801\n",
      "None\n"
     ]
    }
   ],
   "source": [
    "print \"Test accuracy = \", getAcc(spamtest, hamtest)\n",
    "print \"Test false positive rate = \", getFP(spamtest, hamtest)"
   ]
  },
  {
   "cell_type": "markdown",
   "metadata": {
    "collapsed": true
   },
   "source": [
    "### RESULTS: So we obtained 97% overall accuracy, but fp is 0.5%. This means that for every 1000 good mails, we will have about 5 good mails classified as spam. This isn't bad, but should be improved."
   ]
  },
  {
   "cell_type": "markdown",
   "metadata": {
    "collapsed": true
   },
   "source": [
    "#### Where did we fail?"
   ]
  },
  {
   "cell_type": "code",
   "execution_count": 270,
   "metadata": {
    "scrolled": false
   },
   "outputs": [
    {
     "name": "stdout",
     "output_type": "stream",
     "text": [
      "['subject', 'si', 'back', 'si', 'back', 'folsom'] \n",
      "\n",
      "['subject', 'congratulations', 'congratulations', 'expanded', 'role', 'hope', 'means', 'get', 'lots', 'money', 'fewer', 'hours'] \n",
      "\n",
      "['subject', 'please', 'note', 'new', 'email', 'address', 'effective', 'today', 'please', 'send', 'future', 'correspondence', 'staceykn', '@', 'yahoo', 'com', 'thanks'] \n",
      "\n",
      "['subject', 'registration', 'confirmation', 'spinner', 'com', 'thank', 'joining', 'spinner', 'com', 'web', 's', 'largest', 'source', 'free', 'streaming', 'music', 'just', 'wanted', 'confirm', 'registration', 'spinner', 'now', 'complete', 'access', 'spinner', 's', 'professionally', 'programmed', 'music', 'channels', 'entire', 'spinner', 'com', 'website', 'just', 'remind', 'player', 'website', '(', 'importantly', ')', 'music', 'totally', 'free', 'user', 'name', 'junglo', 'omitted', 'password', 'privacy', 'please', 'hang', 'email', 'can', 'easily', 'retrieve', 'user', 'name', 'forget', 'forget', 'password', '?', 'enter', 'user', 'name', 'email', 'address', 'password', 'retrieval', 'page', 'll', 'email', 'can', 'also', 'change', 'email', 'address', 'profile', 'page', 'http', 'www', 'spinner', 'com', 'profile', 'download', 'installation', 'assistance', 'visit', 'help', 'pages', 'http', 'www', 'spinner', 'com', 'help', 'download', 'questions', 'problems', 'please', 'email', 'us', 'feedback', '@', 'spinner', 'com', 'users', 'listen', 'million', 'songs', 'week', 'almost', 'every', 'genre', 'music', 'can', 'imagine', 'also', 'learn', 'everything', 'hear', 'clicking', 'player', 'get', 'bios', 'every', 'artist', 'hear', 'clicking', '\"', 'artist', 'info', '\"', 'purchase', 'cds', 'clicking', '\"', 'buy', 'cd', '\"', 'click', '\"', 'rate', 'song', '\"', 'let', 'djs', 'know', 'think', 'song', 'hear', 'll', 'use', 'feedback', 'determine', 'song', 'play', 'click', '\"', 'channel', '\"', 'see', 'week', 's', 'top', 'songs', 'channel', 're', 'playing', 'ranked', 'order', 'popularity', 'even', 'great', 'info', 'channels', 'music', 'visit', 'spinner', 'com', 'can', 'find', 'channels', 'play', 'favorite', 'artists', 'download', 'great', 'free', 'songs', 'take', 'part', 'cool', 'promotions', 'contests', 'thanks', 'registering', 'like', 'hear', 'tell', 'friend', 'spinner', 'enjoy', 'music', 'spinner', 'crew', 'received', 'email', 'error', 'can', 'unsubscribe', 'service', 'http', 'www', 'spinner', 'com', 'unsubscribe'] \n",
      "\n",
      "['subject', 'registration', 'confirmation', 'yahoo', 'account', 'information', 'help', 'reply', 'message', 'request', 'account', 'click', 'registration', 'confirmed', 'welcome', 'yahoo', 'message', 'confirms', 'new', 'account', 'yahoo', '?', 'yahoo', 'id', 'mpfarmer', 'email', 'address', 'dfarmer', '@', 'enron', 'com', '?', 'email', 'address', 'listed', 'incorrect', 'changes', 'future', '?', 'please', 'keep', 'email', 'contact', 'current', 'can', 'help', 'case', 'can', 't', 'access', 'yahoo', 'account', 'update', 'email', 'address', 'first', 'sign', 'yahoo', 'yahoo', 'personalized', 'service', 'click', '\"', 'account', 'info', '\"', 'top', 'page', '(', '\"', 'account', 'info', '\"', 'available', 'please', 'click', '\"', 'options', '\"', 'first', '\"', 'account', 'info', '\"', ')', 'field', 'need', 'change', 'called', '\"', 'alternate', 'email', 'address', '\"', '?', 'can', 'new', 'yahoo', 'id', '?', 'yahoo', 'mail', 'yahoo', 'mail', 'get', 'yahoo', 'com', 'email', 'address', 'yahoo', 'auctions', 'yahoo', 'auctions', 'buy', 'sell', 'free', '[', 'image', ']', 'yahoo', 'chat', 'chat', 'people', 'world', 'yahoo', 'calendar', 'yahoo', 'calendar', 'keep', 'organized', 'yahoo', 'yahoo', 'customize', 'way', 'use', 'internet', 'yahoo', 'games', 'yahoo', 'games', 'new', 'classic', 'online', 'games', 'yahoo', 'travel', 'yahoo', 'travel', 'reservations', 'tickets', 'discounts', 'information', 'yahoo', 'shopping', 'yahoo', 'shopping', 'search', 'favorite', 'products', 'brands', 'compare', 'prices', 'yahoo', 'messenger', 'yahoo', 'messenger', 'get', 'notified', 'new', 'mail', 'send', 'instant', 'messages', 'show', 'thank', 'signing', 'yahoo', '?', 'didn', 't', 'request', 'account', '?', 'please', 'click', 'didn', 't', 'request', 'longer', 'wish', 'prompted', 'deletion', 'key', 'please', 'cut', 'paste', 'following', 'text', 'box', 'requested', 'deletion', 'page', 'also', 'reply', 'email', '(', 'make', 'sure', 'copy', 'entire', 'email', 'reply', ')', 'remove', 'subject', 'line', '[', ']'] \n",
      "\n",
      "['subject', 'amazon', 'com', 'order', '(', '#', ')', 'greetings', 'amazon', 'com', 'thought', 'd', 'like', 'know', 'shipped', 'items', 'today', 'completes', 'order', 'thanks', 'shopping', 'amazon', 'com', 'hope', 'see', 'soon', 'can', 'track', 'status', 'order', 'orders', 'online', 'visiting', '\"', 'account', '\"', 'page', 'http', 'www', 'amazon', 'com', 'account', 'can', 'track', 'order', 'shipment', 'status', 'review', 'estimated', 'delivery', 'dates', 'cancel', 'unshipped', 'items', 'return', 'items', 'much', 'following', 'items', 'included', 'shipment', 'qty', 'item', 'price', 'shipped', 'subtotal', 'dewalt', 'dw', 'k', 'volt', '\"', '$', '$', 'item', 'subtotal', '$', 'shipping', '&', 'handling', '$', 'total', '$', 'paid', 'via', 'mastercard', '$', 'paid', 'via', 'gift', 'certificate', 'usd', '(', 'privacy', 'reasons', 'recipient', 's', 'address', 'shown', ')', 've', 'explored', 'links', '\"', 'account', '\"', 'page', 'still', 'need', 'get', 'touch', 'us', 'order', 'e', 'mail', 'us', 'orders', '@', 'amazon', 'com', 'next', 'visit', 'web', 'site', 'come', 'see', 's', 'new', 'clicking', 'link', 'right', 'hand', 'side', 'home', 'page', 'visiting', 'url', 'cs', '_', 'ae', '_', 'nfy', 've', 'selected', 'assortment', 'new', 'releases', 'recommendations', 'informative', 'articles', 'think', 'appeal', 'thank', 'shopping', 'amazon', 'com', 'amazon', 'com', 'earth', 's', 'biggest', 'selection', 'orders', '@', 'amazon', 'com', 'http', 'www', 'amazon', 'com'] \n",
      "\n",
      "['subject', 'singles', 'debate', 'hey', 'check', 'dude', 'smashing', 'pumkins', 'song', 'drown', 'can', 't', 'find', 'cd', 'whaz', '?', '?'] \n",
      "\n",
      "['subject', 'valpak', 'com', '\"', 'print', 'later', '\"', 'link', 'link', 'print', 'ready', 'valpak', 'com', 'savings', 'page', 'requested', 'link', 'will', 'remain', 'active', 'next', 'hours', 'may', 'print', 'convenience', 'click', 'print', 'saved', 'couponsshare', 'good', 'savings', 'sense', 'forward', 'link', 'friend', 'can', 'print', 'save'] \n",
      "\n"
     ]
    }
   ],
   "source": [
    "for item in hamtest:\n",
    "    if isSpam(item):\n",
    "        print item, \"\\n\""
   ]
  },
  {
   "cell_type": "markdown",
   "metadata": {},
   "source": [
    "#### Here's what the failures seems like to me, in that order.\n",
    "* Short mails are spam/only subject mails are spam.\n",
    "* Get more money related mails are spam.\n",
    "* Third one seems like a legimitate fail case.\n",
    "* Legit fail.\n",
    "* Legit fail.\n",
    "* Legit fail - (Big fail)\n",
    "* Seems like spam to me.\n",
    "* Mostly fail. "
   ]
  },
  {
   "cell_type": "code",
   "execution_count": null,
   "metadata": {
    "collapsed": true
   },
   "outputs": [],
   "source": []
  }
 ],
 "metadata": {
  "kernelspec": {
   "display_name": "Python 2",
   "language": "python",
   "name": "python2"
  },
  "language_info": {
   "codemirror_mode": {
    "name": "ipython",
    "version": 2
   },
   "file_extension": ".py",
   "mimetype": "text/x-python",
   "name": "python",
   "nbconvert_exporter": "python",
   "pygments_lexer": "ipython2",
   "version": "2.7.14"
  }
 },
 "nbformat": 4,
 "nbformat_minor": 2
}
